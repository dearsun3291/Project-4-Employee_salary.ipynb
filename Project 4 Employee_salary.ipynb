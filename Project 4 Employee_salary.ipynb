{
 "cells": [
  {
   "cell_type": "markdown",
   "metadata": {},
   "source": [
    "# Project 4 Employee Salary Prediction"
   ]
  },
  {
   "cell_type": "markdown",
   "metadata": {},
   "source": [
    "Objective - Build a model to Predict salary of an employee provided no of paraments\n",
    "\n",
    "Since Slary is a continous variable hence Linear rigression would be prefered approach"
   ]
  },
  {
   "cell_type": "markdown",
   "metadata": {},
   "source": [
    "# Importing Required libraries"
   ]
  },
  {
   "cell_type": "code",
   "execution_count": 1,
   "metadata": {},
   "outputs": [],
   "source": [
    "#importing required libraries\n",
    "import numpy as np\n",
    "import pandas as pd"
   ]
  },
  {
   "cell_type": "markdown",
   "metadata": {},
   "source": [
    "# Loading Dataset"
   ]
  },
  {
   "cell_type": "code",
   "execution_count": 2,
   "metadata": {},
   "outputs": [
    {
     "data": {
      "text/html": [
       "<div>\n",
       "<style scoped>\n",
       "    .dataframe tbody tr th:only-of-type {\n",
       "        vertical-align: middle;\n",
       "    }\n",
       "\n",
       "    .dataframe tbody tr th {\n",
       "        vertical-align: top;\n",
       "    }\n",
       "\n",
       "    .dataframe thead th {\n",
       "        text-align: right;\n",
       "    }\n",
       "</style>\n",
       "<table border=\"1\" class=\"dataframe\">\n",
       "  <thead>\n",
       "    <tr style=\"text-align: right;\">\n",
       "      <th></th>\n",
       "      <th>Emp ID</th>\n",
       "      <th>Name Prefix</th>\n",
       "      <th>First Name</th>\n",
       "      <th>Middle Initial</th>\n",
       "      <th>Last Name</th>\n",
       "      <th>Gender</th>\n",
       "      <th>E Mail</th>\n",
       "      <th>Father's Name</th>\n",
       "      <th>Mother's Name</th>\n",
       "      <th>Mother's Maiden Name</th>\n",
       "      <th>...</th>\n",
       "      <th>SSN</th>\n",
       "      <th>Phone No.</th>\n",
       "      <th>Place Name</th>\n",
       "      <th>County</th>\n",
       "      <th>City</th>\n",
       "      <th>State</th>\n",
       "      <th>Zip</th>\n",
       "      <th>Region</th>\n",
       "      <th>User Name</th>\n",
       "      <th>Password</th>\n",
       "    </tr>\n",
       "  </thead>\n",
       "  <tbody>\n",
       "    <tr>\n",
       "      <th>0</th>\n",
       "      <td>850297</td>\n",
       "      <td>Ms.</td>\n",
       "      <td>Shawna</td>\n",
       "      <td>W</td>\n",
       "      <td>Buck</td>\n",
       "      <td>F</td>\n",
       "      <td>shawna.buck@gmail.com</td>\n",
       "      <td>Rosario Buck</td>\n",
       "      <td>Keisha Buck</td>\n",
       "      <td>Hendricks</td>\n",
       "      <td>...</td>\n",
       "      <td>222-11-7603</td>\n",
       "      <td>702-771-7149</td>\n",
       "      <td>Las Vegas</td>\n",
       "      <td>Clark</td>\n",
       "      <td>Las Vegas</td>\n",
       "      <td>NV</td>\n",
       "      <td>89128</td>\n",
       "      <td>West</td>\n",
       "      <td>swbuck</td>\n",
       "      <td>ja8?k3BTF^]o@&lt;&amp;</td>\n",
       "    </tr>\n",
       "    <tr>\n",
       "      <th>1</th>\n",
       "      <td>304721</td>\n",
       "      <td>Mr.</td>\n",
       "      <td>Nathaniel</td>\n",
       "      <td>Z</td>\n",
       "      <td>Burke</td>\n",
       "      <td>M</td>\n",
       "      <td>nathaniel.burke@walmart.com</td>\n",
       "      <td>Derrick Burke</td>\n",
       "      <td>Phoebe Burke</td>\n",
       "      <td>Pugh</td>\n",
       "      <td>...</td>\n",
       "      <td>550-99-9897</td>\n",
       "      <td>231-765-6923</td>\n",
       "      <td>Irons</td>\n",
       "      <td>Lake</td>\n",
       "      <td>Irons</td>\n",
       "      <td>MI</td>\n",
       "      <td>49644</td>\n",
       "      <td>Midwest</td>\n",
       "      <td>nzburke</td>\n",
       "      <td>tPA@4Wh9Ja$+Ln</td>\n",
       "    </tr>\n",
       "    <tr>\n",
       "      <th>2</th>\n",
       "      <td>412317</td>\n",
       "      <td>Drs.</td>\n",
       "      <td>Elisabeth</td>\n",
       "      <td>W</td>\n",
       "      <td>Foster</td>\n",
       "      <td>F</td>\n",
       "      <td>elisabeth.foster@gmail.com</td>\n",
       "      <td>Irwin Foster</td>\n",
       "      <td>Janie Foster</td>\n",
       "      <td>Delaney</td>\n",
       "      <td>...</td>\n",
       "      <td>215-91-0004</td>\n",
       "      <td>270-749-4774</td>\n",
       "      <td>Lexington</td>\n",
       "      <td>Fayette</td>\n",
       "      <td>Lexington</td>\n",
       "      <td>KY</td>\n",
       "      <td>40501</td>\n",
       "      <td>South</td>\n",
       "      <td>ewfoster</td>\n",
       "      <td>5D.B4IGNkWJfG&lt;~</td>\n",
       "    </tr>\n",
       "    <tr>\n",
       "      <th>3</th>\n",
       "      <td>621375</td>\n",
       "      <td>Mrs.</td>\n",
       "      <td>Briana</td>\n",
       "      <td>C</td>\n",
       "      <td>Lancaster</td>\n",
       "      <td>F</td>\n",
       "      <td>briana.lancaster@yahoo.com</td>\n",
       "      <td>Jeffrey Lancaster</td>\n",
       "      <td>Shelby Lancaster</td>\n",
       "      <td>Weiss</td>\n",
       "      <td>...</td>\n",
       "      <td>534-71-1053</td>\n",
       "      <td>219-623-8216</td>\n",
       "      <td>Munster</td>\n",
       "      <td>Lake</td>\n",
       "      <td>Munster</td>\n",
       "      <td>IN</td>\n",
       "      <td>46321</td>\n",
       "      <td>Midwest</td>\n",
       "      <td>bclancaster</td>\n",
       "      <td>I%?JDM;pW</td>\n",
       "    </tr>\n",
       "    <tr>\n",
       "      <th>4</th>\n",
       "      <td>787549</td>\n",
       "      <td>Hon.</td>\n",
       "      <td>Estella</td>\n",
       "      <td>L</td>\n",
       "      <td>Potter</td>\n",
       "      <td>F</td>\n",
       "      <td>estella.potter@gmail.com</td>\n",
       "      <td>Booker Potter</td>\n",
       "      <td>Katelyn Potter</td>\n",
       "      <td>Pate</td>\n",
       "      <td>...</td>\n",
       "      <td>644-29-6396</td>\n",
       "      <td>907-677-8486</td>\n",
       "      <td>Fairbanks</td>\n",
       "      <td>Fairbanks North Star</td>\n",
       "      <td>Fairbanks</td>\n",
       "      <td>AK</td>\n",
       "      <td>99709</td>\n",
       "      <td>West</td>\n",
       "      <td>elpotter</td>\n",
       "      <td>j4jkEXfC&amp;Rh</td>\n",
       "    </tr>\n",
       "  </tbody>\n",
       "</table>\n",
       "<p>5 rows × 37 columns</p>\n",
       "</div>"
      ],
      "text/plain": [
       "   Emp ID Name Prefix First Name Middle Initial  Last Name Gender  \\\n",
       "0  850297         Ms.     Shawna              W       Buck      F   \n",
       "1  304721         Mr.  Nathaniel              Z      Burke      M   \n",
       "2  412317        Drs.  Elisabeth              W     Foster      F   \n",
       "3  621375        Mrs.     Briana              C  Lancaster      F   \n",
       "4  787549        Hon.    Estella              L     Potter      F   \n",
       "\n",
       "                        E Mail      Father's Name     Mother's Name  \\\n",
       "0        shawna.buck@gmail.com       Rosario Buck       Keisha Buck   \n",
       "1  nathaniel.burke@walmart.com      Derrick Burke      Phoebe Burke   \n",
       "2   elisabeth.foster@gmail.com       Irwin Foster      Janie Foster   \n",
       "3   briana.lancaster@yahoo.com  Jeffrey Lancaster  Shelby Lancaster   \n",
       "4     estella.potter@gmail.com      Booker Potter    Katelyn Potter   \n",
       "\n",
       "  Mother's Maiden Name  ...          SSN    Phone No.   Place Name  \\\n",
       "0            Hendricks  ...  222-11-7603  702-771-7149   Las Vegas   \n",
       "1                 Pugh  ...  550-99-9897  231-765-6923       Irons   \n",
       "2              Delaney  ...  215-91-0004  270-749-4774   Lexington   \n",
       "3                Weiss  ...  534-71-1053  219-623-8216     Munster   \n",
       "4                 Pate  ...  644-29-6396  907-677-8486   Fairbanks   \n",
       "\n",
       "                 County       City State    Zip   Region    User Name  \\\n",
       "0                 Clark  Las Vegas    NV  89128     West       swbuck   \n",
       "1                  Lake      Irons    MI  49644  Midwest      nzburke   \n",
       "2               Fayette  Lexington    KY  40501    South     ewfoster   \n",
       "3                  Lake    Munster    IN  46321  Midwest  bclancaster   \n",
       "4  Fairbanks North Star  Fairbanks    AK  99709     West     elpotter   \n",
       "\n",
       "          Password  \n",
       "0  ja8?k3BTF^]o@<&  \n",
       "1   tPA@4Wh9Ja$+Ln  \n",
       "2  5D.B4IGNkWJfG<~  \n",
       "3        I%?JDM;pW  \n",
       "4      j4jkEXfC&Rh  \n",
       "\n",
       "[5 rows x 37 columns]"
      ]
     },
     "execution_count": 2,
     "metadata": {},
     "output_type": "execute_result"
    }
   ],
   "source": [
    "#loading/importing dataset\n",
    "emp = pd.read_csv('1000 Records.csv')\n",
    "emp.head()"
   ]
  },
  {
   "cell_type": "markdown",
   "metadata": {},
   "source": [
    "# Data Prepration"
   ]
  },
  {
   "cell_type": "code",
   "execution_count": 3,
   "metadata": {},
   "outputs": [
    {
     "data": {
      "text/plain": [
       "(1000, 37)"
      ]
     },
     "execution_count": 3,
     "metadata": {},
     "output_type": "execute_result"
    }
   ],
   "source": [
    "emp.shape"
   ]
  },
  {
   "cell_type": "code",
   "execution_count": 4,
   "metadata": {},
   "outputs": [
    {
     "data": {
      "text/plain": [
       "(1000, 37)"
      ]
     },
     "execution_count": 4,
     "metadata": {},
     "output_type": "execute_result"
    }
   ],
   "source": [
    "emp.shape"
   ]
  },
  {
   "cell_type": "code",
   "execution_count": 5,
   "metadata": {},
   "outputs": [
    {
     "data": {
      "text/html": [
       "<div>\n",
       "<style scoped>\n",
       "    .dataframe tbody tr th:only-of-type {\n",
       "        vertical-align: middle;\n",
       "    }\n",
       "\n",
       "    .dataframe tbody tr th {\n",
       "        vertical-align: top;\n",
       "    }\n",
       "\n",
       "    .dataframe thead th {\n",
       "        text-align: right;\n",
       "    }\n",
       "</style>\n",
       "<table border=\"1\" class=\"dataframe\">\n",
       "  <thead>\n",
       "    <tr style=\"text-align: right;\">\n",
       "      <th></th>\n",
       "      <th>Emp ID</th>\n",
       "      <th>Name Prefix</th>\n",
       "      <th>First Name</th>\n",
       "      <th>Middle Initial</th>\n",
       "      <th>Last Name</th>\n",
       "      <th>Gender</th>\n",
       "      <th>E Mail</th>\n",
       "      <th>Father's Name</th>\n",
       "      <th>Mother's Name</th>\n",
       "      <th>Mother's Maiden Name</th>\n",
       "      <th>...</th>\n",
       "      <th>SSN</th>\n",
       "      <th>Phone No.</th>\n",
       "      <th>Place Name</th>\n",
       "      <th>County</th>\n",
       "      <th>City</th>\n",
       "      <th>State</th>\n",
       "      <th>Zip</th>\n",
       "      <th>Region</th>\n",
       "      <th>User Name</th>\n",
       "      <th>Password</th>\n",
       "    </tr>\n",
       "  </thead>\n",
       "  <tbody>\n",
       "    <tr>\n",
       "      <th>0</th>\n",
       "      <td>850297</td>\n",
       "      <td>Ms.</td>\n",
       "      <td>Shawna</td>\n",
       "      <td>W</td>\n",
       "      <td>Buck</td>\n",
       "      <td>F</td>\n",
       "      <td>shawna.buck@gmail.com</td>\n",
       "      <td>Rosario Buck</td>\n",
       "      <td>Keisha Buck</td>\n",
       "      <td>Hendricks</td>\n",
       "      <td>...</td>\n",
       "      <td>222-11-7603</td>\n",
       "      <td>702-771-7149</td>\n",
       "      <td>Las Vegas</td>\n",
       "      <td>Clark</td>\n",
       "      <td>Las Vegas</td>\n",
       "      <td>NV</td>\n",
       "      <td>89128</td>\n",
       "      <td>West</td>\n",
       "      <td>swbuck</td>\n",
       "      <td>ja8?k3BTF^]o@&lt;&amp;</td>\n",
       "    </tr>\n",
       "    <tr>\n",
       "      <th>1</th>\n",
       "      <td>304721</td>\n",
       "      <td>Mr.</td>\n",
       "      <td>Nathaniel</td>\n",
       "      <td>Z</td>\n",
       "      <td>Burke</td>\n",
       "      <td>M</td>\n",
       "      <td>nathaniel.burke@walmart.com</td>\n",
       "      <td>Derrick Burke</td>\n",
       "      <td>Phoebe Burke</td>\n",
       "      <td>Pugh</td>\n",
       "      <td>...</td>\n",
       "      <td>550-99-9897</td>\n",
       "      <td>231-765-6923</td>\n",
       "      <td>Irons</td>\n",
       "      <td>Lake</td>\n",
       "      <td>Irons</td>\n",
       "      <td>MI</td>\n",
       "      <td>49644</td>\n",
       "      <td>Midwest</td>\n",
       "      <td>nzburke</td>\n",
       "      <td>tPA@4Wh9Ja$+Ln</td>\n",
       "    </tr>\n",
       "    <tr>\n",
       "      <th>2</th>\n",
       "      <td>412317</td>\n",
       "      <td>Drs.</td>\n",
       "      <td>Elisabeth</td>\n",
       "      <td>W</td>\n",
       "      <td>Foster</td>\n",
       "      <td>F</td>\n",
       "      <td>elisabeth.foster@gmail.com</td>\n",
       "      <td>Irwin Foster</td>\n",
       "      <td>Janie Foster</td>\n",
       "      <td>Delaney</td>\n",
       "      <td>...</td>\n",
       "      <td>215-91-0004</td>\n",
       "      <td>270-749-4774</td>\n",
       "      <td>Lexington</td>\n",
       "      <td>Fayette</td>\n",
       "      <td>Lexington</td>\n",
       "      <td>KY</td>\n",
       "      <td>40501</td>\n",
       "      <td>South</td>\n",
       "      <td>ewfoster</td>\n",
       "      <td>5D.B4IGNkWJfG&lt;~</td>\n",
       "    </tr>\n",
       "    <tr>\n",
       "      <th>3</th>\n",
       "      <td>621375</td>\n",
       "      <td>Mrs.</td>\n",
       "      <td>Briana</td>\n",
       "      <td>C</td>\n",
       "      <td>Lancaster</td>\n",
       "      <td>F</td>\n",
       "      <td>briana.lancaster@yahoo.com</td>\n",
       "      <td>Jeffrey Lancaster</td>\n",
       "      <td>Shelby Lancaster</td>\n",
       "      <td>Weiss</td>\n",
       "      <td>...</td>\n",
       "      <td>534-71-1053</td>\n",
       "      <td>219-623-8216</td>\n",
       "      <td>Munster</td>\n",
       "      <td>Lake</td>\n",
       "      <td>Munster</td>\n",
       "      <td>IN</td>\n",
       "      <td>46321</td>\n",
       "      <td>Midwest</td>\n",
       "      <td>bclancaster</td>\n",
       "      <td>I%?JDM;pW</td>\n",
       "    </tr>\n",
       "    <tr>\n",
       "      <th>4</th>\n",
       "      <td>787549</td>\n",
       "      <td>Hon.</td>\n",
       "      <td>Estella</td>\n",
       "      <td>L</td>\n",
       "      <td>Potter</td>\n",
       "      <td>F</td>\n",
       "      <td>estella.potter@gmail.com</td>\n",
       "      <td>Booker Potter</td>\n",
       "      <td>Katelyn Potter</td>\n",
       "      <td>Pate</td>\n",
       "      <td>...</td>\n",
       "      <td>644-29-6396</td>\n",
       "      <td>907-677-8486</td>\n",
       "      <td>Fairbanks</td>\n",
       "      <td>Fairbanks North Star</td>\n",
       "      <td>Fairbanks</td>\n",
       "      <td>AK</td>\n",
       "      <td>99709</td>\n",
       "      <td>West</td>\n",
       "      <td>elpotter</td>\n",
       "      <td>j4jkEXfC&amp;Rh</td>\n",
       "    </tr>\n",
       "    <tr>\n",
       "      <th>5</th>\n",
       "      <td>520092</td>\n",
       "      <td>Mr.</td>\n",
       "      <td>Lamont</td>\n",
       "      <td>L</td>\n",
       "      <td>Woods</td>\n",
       "      <td>M</td>\n",
       "      <td>lamont.woods@hotmail.com</td>\n",
       "      <td>Ignacio Woods</td>\n",
       "      <td>Beulah Woods</td>\n",
       "      <td>Trujillo</td>\n",
       "      <td>...</td>\n",
       "      <td>037-74-2595</td>\n",
       "      <td>236-597-8196</td>\n",
       "      <td>Purcellville</td>\n",
       "      <td>Loudoun</td>\n",
       "      <td>Purcellville</td>\n",
       "      <td>VA</td>\n",
       "      <td>20134</td>\n",
       "      <td>South</td>\n",
       "      <td>llwoods</td>\n",
       "      <td>8tf/YU}&gt;s</td>\n",
       "    </tr>\n",
       "    <tr>\n",
       "      <th>6</th>\n",
       "      <td>795934</td>\n",
       "      <td>Ms.</td>\n",
       "      <td>Melinda</td>\n",
       "      <td>L</td>\n",
       "      <td>Lopez</td>\n",
       "      <td>F</td>\n",
       "      <td>melinda.lopez@hotmail.com</td>\n",
       "      <td>Leroy Lopez</td>\n",
       "      <td>Edna Lopez</td>\n",
       "      <td>Carter</td>\n",
       "      <td>...</td>\n",
       "      <td>541-83-6362</td>\n",
       "      <td>210-396-1493</td>\n",
       "      <td>Stowell</td>\n",
       "      <td>Chambers</td>\n",
       "      <td>Stowell</td>\n",
       "      <td>TX</td>\n",
       "      <td>77661</td>\n",
       "      <td>South</td>\n",
       "      <td>mllopez</td>\n",
       "      <td>hf*&amp;Gcb[</td>\n",
       "    </tr>\n",
       "    <tr>\n",
       "      <th>7</th>\n",
       "      <td>159108</td>\n",
       "      <td>Mrs.</td>\n",
       "      <td>Shanna</td>\n",
       "      <td>U</td>\n",
       "      <td>Silva</td>\n",
       "      <td>F</td>\n",
       "      <td>shanna.silva@gmail.com</td>\n",
       "      <td>Eliseo Silva</td>\n",
       "      <td>Minnie Silva</td>\n",
       "      <td>Callahan</td>\n",
       "      <td>...</td>\n",
       "      <td>673-48-7003</td>\n",
       "      <td>236-373-6712</td>\n",
       "      <td>Herndon</td>\n",
       "      <td>Fairfax</td>\n",
       "      <td>Herndon</td>\n",
       "      <td>VA</td>\n",
       "      <td>20171</td>\n",
       "      <td>South</td>\n",
       "      <td>susilva</td>\n",
       "      <td>oudj2Bq4vc2_{PU</td>\n",
       "    </tr>\n",
       "    <tr>\n",
       "      <th>8</th>\n",
       "      <td>330816</td>\n",
       "      <td>Ms.</td>\n",
       "      <td>Jasmine</td>\n",
       "      <td>J</td>\n",
       "      <td>Freeman</td>\n",
       "      <td>F</td>\n",
       "      <td>jasmine.freeman@gmail.com</td>\n",
       "      <td>Hans Freeman</td>\n",
       "      <td>Renee Freeman</td>\n",
       "      <td>Mcbride</td>\n",
       "      <td>...</td>\n",
       "      <td>600-99-8437</td>\n",
       "      <td>423-796-1535</td>\n",
       "      <td>Ocoee</td>\n",
       "      <td>Polk</td>\n",
       "      <td>Ocoee</td>\n",
       "      <td>TN</td>\n",
       "      <td>37361</td>\n",
       "      <td>South</td>\n",
       "      <td>jjfreeman</td>\n",
       "      <td>Q.8&lt;Q&gt;K*H\\*6f</td>\n",
       "    </tr>\n",
       "    <tr>\n",
       "      <th>9</th>\n",
       "      <td>532002</td>\n",
       "      <td>Ms.</td>\n",
       "      <td>Madge</td>\n",
       "      <td>V</td>\n",
       "      <td>Sargent</td>\n",
       "      <td>F</td>\n",
       "      <td>madge.sargent@aol.com</td>\n",
       "      <td>Luke Sargent</td>\n",
       "      <td>Judy Sargent</td>\n",
       "      <td>Herrera</td>\n",
       "      <td>...</td>\n",
       "      <td>177-86-7347</td>\n",
       "      <td>217-910-0644</td>\n",
       "      <td>Springfield</td>\n",
       "      <td>Sangamon</td>\n",
       "      <td>Springfield</td>\n",
       "      <td>IL</td>\n",
       "      <td>62712</td>\n",
       "      <td>Midwest</td>\n",
       "      <td>mvsargent</td>\n",
       "      <td>bc\\&amp;B81h</td>\n",
       "    </tr>\n",
       "  </tbody>\n",
       "</table>\n",
       "<p>10 rows × 37 columns</p>\n",
       "</div>"
      ],
      "text/plain": [
       "   Emp ID Name Prefix First Name Middle Initial  Last Name Gender  \\\n",
       "0  850297         Ms.     Shawna              W       Buck      F   \n",
       "1  304721         Mr.  Nathaniel              Z      Burke      M   \n",
       "2  412317        Drs.  Elisabeth              W     Foster      F   \n",
       "3  621375        Mrs.     Briana              C  Lancaster      F   \n",
       "4  787549        Hon.    Estella              L     Potter      F   \n",
       "5  520092         Mr.     Lamont              L      Woods      M   \n",
       "6  795934         Ms.    Melinda              L      Lopez      F   \n",
       "7  159108        Mrs.     Shanna              U      Silva      F   \n",
       "8  330816         Ms.    Jasmine              J    Freeman      F   \n",
       "9  532002         Ms.      Madge              V    Sargent      F   \n",
       "\n",
       "                        E Mail      Father's Name     Mother's Name  \\\n",
       "0        shawna.buck@gmail.com       Rosario Buck       Keisha Buck   \n",
       "1  nathaniel.burke@walmart.com      Derrick Burke      Phoebe Burke   \n",
       "2   elisabeth.foster@gmail.com       Irwin Foster      Janie Foster   \n",
       "3   briana.lancaster@yahoo.com  Jeffrey Lancaster  Shelby Lancaster   \n",
       "4     estella.potter@gmail.com      Booker Potter    Katelyn Potter   \n",
       "5     lamont.woods@hotmail.com      Ignacio Woods      Beulah Woods   \n",
       "6    melinda.lopez@hotmail.com        Leroy Lopez        Edna Lopez   \n",
       "7       shanna.silva@gmail.com       Eliseo Silva      Minnie Silva   \n",
       "8    jasmine.freeman@gmail.com       Hans Freeman     Renee Freeman   \n",
       "9        madge.sargent@aol.com       Luke Sargent      Judy Sargent   \n",
       "\n",
       "  Mother's Maiden Name  ...          SSN    Phone No.     Place Name  \\\n",
       "0            Hendricks  ...  222-11-7603  702-771-7149     Las Vegas   \n",
       "1                 Pugh  ...  550-99-9897  231-765-6923         Irons   \n",
       "2              Delaney  ...  215-91-0004  270-749-4774     Lexington   \n",
       "3                Weiss  ...  534-71-1053  219-623-8216       Munster   \n",
       "4                 Pate  ...  644-29-6396  907-677-8486     Fairbanks   \n",
       "5             Trujillo  ...  037-74-2595  236-597-8196  Purcellville   \n",
       "6               Carter  ...  541-83-6362  210-396-1493       Stowell   \n",
       "7             Callahan  ...  673-48-7003  236-373-6712       Herndon   \n",
       "8              Mcbride  ...  600-99-8437  423-796-1535         Ocoee   \n",
       "9              Herrera  ...  177-86-7347  217-910-0644   Springfield   \n",
       "\n",
       "                 County          City State    Zip   Region    User Name  \\\n",
       "0                 Clark     Las Vegas    NV  89128     West       swbuck   \n",
       "1                  Lake         Irons    MI  49644  Midwest      nzburke   \n",
       "2               Fayette     Lexington    KY  40501    South     ewfoster   \n",
       "3                  Lake       Munster    IN  46321  Midwest  bclancaster   \n",
       "4  Fairbanks North Star     Fairbanks    AK  99709     West     elpotter   \n",
       "5               Loudoun  Purcellville    VA  20134    South      llwoods   \n",
       "6              Chambers       Stowell    TX  77661    South      mllopez   \n",
       "7               Fairfax       Herndon    VA  20171    South      susilva   \n",
       "8                  Polk         Ocoee    TN  37361    South    jjfreeman   \n",
       "9              Sangamon   Springfield    IL  62712  Midwest    mvsargent   \n",
       "\n",
       "          Password  \n",
       "0  ja8?k3BTF^]o@<&  \n",
       "1   tPA@4Wh9Ja$+Ln  \n",
       "2  5D.B4IGNkWJfG<~  \n",
       "3        I%?JDM;pW  \n",
       "4      j4jkEXfC&Rh  \n",
       "5        8tf/YU}>s  \n",
       "6         hf*&Gcb[  \n",
       "7  oudj2Bq4vc2_{PU  \n",
       "8    Q.8<Q>K*H\\*6f  \n",
       "9         bc\\&B81h  \n",
       "\n",
       "[10 rows x 37 columns]"
      ]
     },
     "execution_count": 5,
     "metadata": {},
     "output_type": "execute_result"
    }
   ],
   "source": [
    "emp.head(10)"
   ]
  },
  {
   "cell_type": "code",
   "execution_count": 6,
   "metadata": {},
   "outputs": [
    {
     "data": {
      "text/plain": [
       "Index(['Emp ID', 'Name Prefix', 'First Name', 'Middle Initial', 'Last Name',\n",
       "       'Gender', 'E Mail', 'Father's Name', 'Mother's Name',\n",
       "       'Mother's Maiden Name', 'Date of Birth', 'Time of Birth', 'Age in Yrs.',\n",
       "       'Weight in Kgs.', 'Date of Joining', 'Quarter of Joining',\n",
       "       'Half of Joining', 'Year of Joining', 'Month of Joining',\n",
       "       'Month Name of Joining', 'Short Month', 'Day of Joining',\n",
       "       'DOW of Joining', 'Short DOW', 'Age in Company (Years)', 'Salary',\n",
       "       'Last % Hike', 'SSN', 'Phone No. ', 'Place Name', 'County', 'City',\n",
       "       'State', 'Zip', 'Region', 'User Name', 'Password'],\n",
       "      dtype='object')"
      ]
     },
     "execution_count": 6,
     "metadata": {},
     "output_type": "execute_result"
    }
   ],
   "source": [
    "emp.keys()"
   ]
  },
  {
   "cell_type": "code",
   "execution_count": 7,
   "metadata": {},
   "outputs": [],
   "source": [
    "emp.drop(['Emp ID', 'Name Prefix', 'First Name', 'Middle Initial', 'Last Name',\n",
    "       'Gender', 'E Mail', \"Father's Name\", \"Mother's Name\",\n",
    "       \"Mother's Maiden Name\", 'Date of Birth', 'Time of Birth',\n",
    "       'Weight in Kgs.', 'Date of Joining', 'Quarter of Joining',\n",
    "       'Half of Joining', 'Year of Joining', 'Month of Joining',\n",
    "       'Month Name of Joining', 'Short Month', 'Day of Joining',\n",
    "       'DOW of Joining', 'Short DOW', 'SSN', 'Phone No. ', 'Place Name', 'County',\n",
    "       'State', 'Zip', 'Region', 'User Name', 'Password'], axis = 1,inplace = True)"
   ]
  },
  {
   "cell_type": "code",
   "execution_count": 8,
   "metadata": {},
   "outputs": [
    {
     "data": {
      "text/plain": [
       "Index(['Age in Yrs.', 'Age in Company (Years)', 'Salary', 'Last % Hike',\n",
       "       'City'],\n",
       "      dtype='object')"
      ]
     },
     "execution_count": 8,
     "metadata": {},
     "output_type": "execute_result"
    }
   ],
   "source": [
    "emp.keys()"
   ]
  },
  {
   "cell_type": "code",
   "execution_count": 9,
   "metadata": {},
   "outputs": [
    {
     "name": "stdout",
     "output_type": "stream",
     "text": [
      "<class 'pandas.core.frame.DataFrame'>\n",
      "RangeIndex: 1000 entries, 0 to 999\n",
      "Data columns (total 5 columns):\n",
      " #   Column                  Non-Null Count  Dtype  \n",
      "---  ------                  --------------  -----  \n",
      " 0   Age in Yrs.             1000 non-null   float64\n",
      " 1   Age in Company (Years)  1000 non-null   float64\n",
      " 2   Salary                  1000 non-null   int64  \n",
      " 3   Last % Hike             1000 non-null   object \n",
      " 4   City                    1000 non-null   object \n",
      "dtypes: float64(2), int64(1), object(2)\n",
      "memory usage: 39.2+ KB\n"
     ]
    }
   ],
   "source": [
    "emp.info()"
   ]
  },
  {
   "cell_type": "code",
   "execution_count": 10,
   "metadata": {},
   "outputs": [
    {
     "data": {
      "text/html": [
       "<div>\n",
       "<style scoped>\n",
       "    .dataframe tbody tr th:only-of-type {\n",
       "        vertical-align: middle;\n",
       "    }\n",
       "\n",
       "    .dataframe tbody tr th {\n",
       "        vertical-align: top;\n",
       "    }\n",
       "\n",
       "    .dataframe thead th {\n",
       "        text-align: right;\n",
       "    }\n",
       "</style>\n",
       "<table border=\"1\" class=\"dataframe\">\n",
       "  <thead>\n",
       "    <tr style=\"text-align: right;\">\n",
       "      <th></th>\n",
       "      <th>Age in Yrs.</th>\n",
       "      <th>Age in Company (Years)</th>\n",
       "      <th>Salary</th>\n",
       "      <th>Last % Hike</th>\n",
       "      <th>City</th>\n",
       "    </tr>\n",
       "  </thead>\n",
       "  <tbody>\n",
       "    <tr>\n",
       "      <th>0</th>\n",
       "      <td>45.66</td>\n",
       "      <td>6.61</td>\n",
       "      <td>119090</td>\n",
       "      <td>17%</td>\n",
       "      <td>Las Vegas</td>\n",
       "    </tr>\n",
       "    <tr>\n",
       "      <th>1</th>\n",
       "      <td>23.76</td>\n",
       "      <td>0.26</td>\n",
       "      <td>117991</td>\n",
       "      <td>14%</td>\n",
       "      <td>Irons</td>\n",
       "    </tr>\n",
       "    <tr>\n",
       "      <th>2</th>\n",
       "      <td>22.68</td>\n",
       "      <td>0.34</td>\n",
       "      <td>161045</td>\n",
       "      <td>28%</td>\n",
       "      <td>Lexington</td>\n",
       "    </tr>\n",
       "    <tr>\n",
       "      <th>3</th>\n",
       "      <td>41.70</td>\n",
       "      <td>14.43</td>\n",
       "      <td>142616</td>\n",
       "      <td>16%</td>\n",
       "      <td>Munster</td>\n",
       "    </tr>\n",
       "    <tr>\n",
       "      <th>4</th>\n",
       "      <td>22.39</td>\n",
       "      <td>0.79</td>\n",
       "      <td>135706</td>\n",
       "      <td>11%</td>\n",
       "      <td>Fairbanks</td>\n",
       "    </tr>\n",
       "    <tr>\n",
       "      <th>5</th>\n",
       "      <td>25.81</td>\n",
       "      <td>2.67</td>\n",
       "      <td>173027</td>\n",
       "      <td>17%</td>\n",
       "      <td>Purcellville</td>\n",
       "    </tr>\n",
       "    <tr>\n",
       "      <th>6</th>\n",
       "      <td>32.89</td>\n",
       "      <td>11.69</td>\n",
       "      <td>41287</td>\n",
       "      <td>4%</td>\n",
       "      <td>Stowell</td>\n",
       "    </tr>\n",
       "    <tr>\n",
       "      <th>7</th>\n",
       "      <td>59.15</td>\n",
       "      <td>17.78</td>\n",
       "      <td>85833</td>\n",
       "      <td>13%</td>\n",
       "      <td>Herndon</td>\n",
       "    </tr>\n",
       "    <tr>\n",
       "      <th>8</th>\n",
       "      <td>55.95</td>\n",
       "      <td>34.51</td>\n",
       "      <td>154216</td>\n",
       "      <td>1%</td>\n",
       "      <td>Ocoee</td>\n",
       "    </tr>\n",
       "    <tr>\n",
       "      <th>9</th>\n",
       "      <td>35.84</td>\n",
       "      <td>11.30</td>\n",
       "      <td>133003</td>\n",
       "      <td>20%</td>\n",
       "      <td>Springfield</td>\n",
       "    </tr>\n",
       "  </tbody>\n",
       "</table>\n",
       "</div>"
      ],
      "text/plain": [
       "   Age in Yrs.  Age in Company (Years)  Salary Last % Hike          City\n",
       "0        45.66                    6.61  119090         17%     Las Vegas\n",
       "1        23.76                    0.26  117991         14%         Irons\n",
       "2        22.68                    0.34  161045         28%     Lexington\n",
       "3        41.70                   14.43  142616         16%       Munster\n",
       "4        22.39                    0.79  135706         11%     Fairbanks\n",
       "5        25.81                    2.67  173027         17%  Purcellville\n",
       "6        32.89                   11.69   41287          4%       Stowell\n",
       "7        59.15                   17.78   85833         13%       Herndon\n",
       "8        55.95                   34.51  154216          1%         Ocoee\n",
       "9        35.84                   11.30  133003         20%   Springfield"
      ]
     },
     "execution_count": 10,
     "metadata": {},
     "output_type": "execute_result"
    }
   ],
   "source": [
    "emp.head(10)"
   ]
  },
  {
   "cell_type": "code",
   "execution_count": 11,
   "metadata": {},
   "outputs": [],
   "source": [
    "from sklearn.preprocessing import LabelEncoder\n",
    "le = LabelEncoder()\n",
    "list = ['Last % Hike','City']\n",
    "for val in list:\n",
    "    emp[val] = le.fit_transform(emp[val].astype('str'))"
   ]
  },
  {
   "cell_type": "code",
   "execution_count": 12,
   "metadata": {},
   "outputs": [
    {
     "name": "stdout",
     "output_type": "stream",
     "text": [
      "<class 'pandas.core.frame.DataFrame'>\n",
      "RangeIndex: 1000 entries, 0 to 999\n",
      "Data columns (total 5 columns):\n",
      " #   Column                  Non-Null Count  Dtype  \n",
      "---  ------                  --------------  -----  \n",
      " 0   Age in Yrs.             1000 non-null   float64\n",
      " 1   Age in Company (Years)  1000 non-null   float64\n",
      " 2   Salary                  1000 non-null   int64  \n",
      " 3   Last % Hike             1000 non-null   int32  \n",
      " 4   City                    1000 non-null   int32  \n",
      "dtypes: float64(2), int32(2), int64(1)\n",
      "memory usage: 31.4 KB\n"
     ]
    }
   ],
   "source": [
    "emp.info()"
   ]
  },
  {
   "cell_type": "code",
   "execution_count": 13,
   "metadata": {},
   "outputs": [
    {
     "data": {
      "text/html": [
       "<div>\n",
       "<style scoped>\n",
       "    .dataframe tbody tr th:only-of-type {\n",
       "        vertical-align: middle;\n",
       "    }\n",
       "\n",
       "    .dataframe tbody tr th {\n",
       "        vertical-align: top;\n",
       "    }\n",
       "\n",
       "    .dataframe thead th {\n",
       "        text-align: right;\n",
       "    }\n",
       "</style>\n",
       "<table border=\"1\" class=\"dataframe\">\n",
       "  <thead>\n",
       "    <tr style=\"text-align: right;\">\n",
       "      <th></th>\n",
       "      <th>Age in Yrs.</th>\n",
       "      <th>Age in Company (Years)</th>\n",
       "      <th>Salary</th>\n",
       "      <th>Last % Hike</th>\n",
       "      <th>City</th>\n",
       "    </tr>\n",
       "  </thead>\n",
       "  <tbody>\n",
       "    <tr>\n",
       "      <th>count</th>\n",
       "      <td>1000.000000</td>\n",
       "      <td>1000.000000</td>\n",
       "      <td>1000.000000</td>\n",
       "      <td>1000.000000</td>\n",
       "      <td>1000.000000</td>\n",
       "    </tr>\n",
       "    <tr>\n",
       "      <th>mean</th>\n",
       "      <td>40.377250</td>\n",
       "      <td>10.093720</td>\n",
       "      <td>120288.528000</td>\n",
       "      <td>15.007000</td>\n",
       "      <td>437.719000</td>\n",
       "    </tr>\n",
       "    <tr>\n",
       "      <th>std</th>\n",
       "      <td>11.107729</td>\n",
       "      <td>8.568863</td>\n",
       "      <td>45178.339916</td>\n",
       "      <td>8.754747</td>\n",
       "      <td>252.677922</td>\n",
       "    </tr>\n",
       "    <tr>\n",
       "      <th>min</th>\n",
       "      <td>21.040000</td>\n",
       "      <td>0.000000</td>\n",
       "      <td>40040.000000</td>\n",
       "      <td>0.000000</td>\n",
       "      <td>0.000000</td>\n",
       "    </tr>\n",
       "    <tr>\n",
       "      <th>25%</th>\n",
       "      <td>30.925000</td>\n",
       "      <td>3.152500</td>\n",
       "      <td>82122.000000</td>\n",
       "      <td>8.000000</td>\n",
       "      <td>215.750000</td>\n",
       "    </tr>\n",
       "    <tr>\n",
       "      <th>50%</th>\n",
       "      <td>40.730000</td>\n",
       "      <td>7.815000</td>\n",
       "      <td>119409.000000</td>\n",
       "      <td>15.000000</td>\n",
       "      <td>436.500000</td>\n",
       "    </tr>\n",
       "    <tr>\n",
       "      <th>75%</th>\n",
       "      <td>49.852500</td>\n",
       "      <td>15.465000</td>\n",
       "      <td>159109.000000</td>\n",
       "      <td>22.000000</td>\n",
       "      <td>657.250000</td>\n",
       "    </tr>\n",
       "    <tr>\n",
       "      <th>max</th>\n",
       "      <td>59.980000</td>\n",
       "      <td>37.570000</td>\n",
       "      <td>199943.000000</td>\n",
       "      <td>30.000000</td>\n",
       "      <td>879.000000</td>\n",
       "    </tr>\n",
       "  </tbody>\n",
       "</table>\n",
       "</div>"
      ],
      "text/plain": [
       "       Age in Yrs.  Age in Company (Years)         Salary  Last % Hike  \\\n",
       "count  1000.000000             1000.000000    1000.000000  1000.000000   \n",
       "mean     40.377250               10.093720  120288.528000    15.007000   \n",
       "std      11.107729                8.568863   45178.339916     8.754747   \n",
       "min      21.040000                0.000000   40040.000000     0.000000   \n",
       "25%      30.925000                3.152500   82122.000000     8.000000   \n",
       "50%      40.730000                7.815000  119409.000000    15.000000   \n",
       "75%      49.852500               15.465000  159109.000000    22.000000   \n",
       "max      59.980000               37.570000  199943.000000    30.000000   \n",
       "\n",
       "              City  \n",
       "count  1000.000000  \n",
       "mean    437.719000  \n",
       "std     252.677922  \n",
       "min       0.000000  \n",
       "25%     215.750000  \n",
       "50%     436.500000  \n",
       "75%     657.250000  \n",
       "max     879.000000  "
      ]
     },
     "execution_count": 13,
     "metadata": {},
     "output_type": "execute_result"
    }
   ],
   "source": [
    "emp.describe()"
   ]
  },
  {
   "cell_type": "markdown",
   "metadata": {},
   "source": [
    "# EDA"
   ]
  },
  {
   "cell_type": "code",
   "execution_count": 14,
   "metadata": {},
   "outputs": [
    {
     "data": {
      "text/plain": [
       "Age in Yrs.               0.006173\n",
       "Age in Company (Years)    0.968211\n",
       "Salary                    0.034356\n",
       "Last % Hike               0.007634\n",
       "City                      0.012028\n",
       "dtype: float64"
      ]
     },
     "execution_count": 14,
     "metadata": {},
     "output_type": "execute_result"
    }
   ],
   "source": [
    "emp.skew()"
   ]
  },
  {
   "cell_type": "raw",
   "metadata": {},
   "source": [
    "# Skewness is seen only in Age in Company column"
   ]
  },
  {
   "cell_type": "code",
   "execution_count": 15,
   "metadata": {},
   "outputs": [
    {
     "data": {
      "text/html": [
       "<div>\n",
       "<style scoped>\n",
       "    .dataframe tbody tr th:only-of-type {\n",
       "        vertical-align: middle;\n",
       "    }\n",
       "\n",
       "    .dataframe tbody tr th {\n",
       "        vertical-align: top;\n",
       "    }\n",
       "\n",
       "    .dataframe thead th {\n",
       "        text-align: right;\n",
       "    }\n",
       "</style>\n",
       "<table border=\"1\" class=\"dataframe\">\n",
       "  <thead>\n",
       "    <tr style=\"text-align: right;\">\n",
       "      <th></th>\n",
       "      <th>Age in Yrs.</th>\n",
       "      <th>Age in Company (Years)</th>\n",
       "      <th>Salary</th>\n",
       "      <th>Last % Hike</th>\n",
       "      <th>City</th>\n",
       "    </tr>\n",
       "  </thead>\n",
       "  <tbody>\n",
       "    <tr>\n",
       "      <th>Age in Yrs.</th>\n",
       "      <td>1.000000</td>\n",
       "      <td>0.676408</td>\n",
       "      <td>0.041422</td>\n",
       "      <td>0.043050</td>\n",
       "      <td>-0.042713</td>\n",
       "    </tr>\n",
       "    <tr>\n",
       "      <th>Age in Company (Years)</th>\n",
       "      <td>0.676408</td>\n",
       "      <td>1.000000</td>\n",
       "      <td>0.054212</td>\n",
       "      <td>0.011713</td>\n",
       "      <td>-0.018026</td>\n",
       "    </tr>\n",
       "    <tr>\n",
       "      <th>Salary</th>\n",
       "      <td>0.041422</td>\n",
       "      <td>0.054212</td>\n",
       "      <td>1.000000</td>\n",
       "      <td>-0.039161</td>\n",
       "      <td>-0.053534</td>\n",
       "    </tr>\n",
       "    <tr>\n",
       "      <th>Last % Hike</th>\n",
       "      <td>0.043050</td>\n",
       "      <td>0.011713</td>\n",
       "      <td>-0.039161</td>\n",
       "      <td>1.000000</td>\n",
       "      <td>0.043988</td>\n",
       "    </tr>\n",
       "    <tr>\n",
       "      <th>City</th>\n",
       "      <td>-0.042713</td>\n",
       "      <td>-0.018026</td>\n",
       "      <td>-0.053534</td>\n",
       "      <td>0.043988</td>\n",
       "      <td>1.000000</td>\n",
       "    </tr>\n",
       "  </tbody>\n",
       "</table>\n",
       "</div>"
      ],
      "text/plain": [
       "                        Age in Yrs.  Age in Company (Years)    Salary  \\\n",
       "Age in Yrs.                1.000000                0.676408  0.041422   \n",
       "Age in Company (Years)     0.676408                1.000000  0.054212   \n",
       "Salary                     0.041422                0.054212  1.000000   \n",
       "Last % Hike                0.043050                0.011713 -0.039161   \n",
       "City                      -0.042713               -0.018026 -0.053534   \n",
       "\n",
       "                        Last % Hike      City  \n",
       "Age in Yrs.                0.043050 -0.042713  \n",
       "Age in Company (Years)     0.011713 -0.018026  \n",
       "Salary                    -0.039161 -0.053534  \n",
       "Last % Hike                1.000000  0.043988  \n",
       "City                       0.043988  1.000000  "
      ]
     },
     "execution_count": 15,
     "metadata": {},
     "output_type": "execute_result"
    }
   ],
   "source": [
    "emp_cor= emp.corr()\n",
    "import seaborn as sns\n",
    "import matplotlib.pyplot as plt\n",
    "emp_cor"
   ]
  },
  {
   "cell_type": "code",
   "execution_count": 16,
   "metadata": {},
   "outputs": [
    {
     "data": {
      "image/png": "[encoded data removed]",
      "text/plain": [
       "<Figure size 360x360 with 2 Axes>"
      ]
     },
     "metadata": {
      "needs_background": "light"
     },
     "output_type": "display_data"
    }
   ],
   "source": [
    "plt.figure(figsize=(5,5))\n",
    "sns.heatmap(emp_cor, annot = True)\n",
    "plt.title('Salary Correlation')\n",
    "plt.show()"
   ]
  },
  {
   "cell_type": "code",
   "execution_count": 17,
   "metadata": {},
   "outputs": [
    {
     "data": {
      "image/png": "[encoded data removed]",
      "text/plain": [
       "<Figure size 360x2880 with 1 Axes>"
      ]
     },
     "metadata": {
      "needs_background": "light"
     },
     "output_type": "display_data"
    },
    {
     "data": {
      "image/png": "[encoded data removed]",
      "text/plain": [
       "<Figure size 360x2880 with 1 Axes>"
      ]
     },
     "metadata": {
      "needs_background": "light"
     },
     "output_type": "display_data"
    },
    {
     "data": {
      "image/png": "[encoded data removed]",
      "text/plain": [
       "<Figure size 360x2880 with 1 Axes>"
      ]
     },
     "metadata": {
      "needs_background": "light"
     },
     "output_type": "display_data"
    },
    {
     "data": {
      "image/png": "[encoded data removed]",
      "text/plain": [
       "<Figure size 360x2880 with 1 Axes>"
      ]
     },
     "metadata": {
      "needs_background": "light"
     },
     "output_type": "display_data"
    },
    {
     "data": {
      "image/png": "[encoded data removed]",
      "text/plain": [
       "<Figure size 360x2880 with 1 Axes>"
      ]
     },
     "metadata": {
      "needs_background": "light"
     },
     "output_type": "display_data"
    }
   ],
   "source": [
    "collist = emp.columns.values\n",
    "for i in range(0,len(collist)):\n",
    "    plt.figure(figsize = (5,40))\n",
    "    plt.subplot(37,1,i+1)\n",
    "    sns.boxplot(emp[collist[i]])\n",
    "    plt.show()"
   ]
  },
  {
   "cell_type": "code",
   "execution_count": 18,
   "metadata": {},
   "outputs": [
    {
     "data": {
      "text/html": [
       "<div>\n",
       "<style scoped>\n",
       "    .dataframe tbody tr th:only-of-type {\n",
       "        vertical-align: middle;\n",
       "    }\n",
       "\n",
       "    .dataframe tbody tr th {\n",
       "        vertical-align: top;\n",
       "    }\n",
       "\n",
       "    .dataframe thead th {\n",
       "        text-align: right;\n",
       "    }\n",
       "</style>\n",
       "<table border=\"1\" class=\"dataframe\">\n",
       "  <thead>\n",
       "    <tr style=\"text-align: right;\">\n",
       "      <th></th>\n",
       "      <th>Age in Yrs.</th>\n",
       "      <th>Age in Company (Years)</th>\n",
       "      <th>Salary</th>\n",
       "      <th>Last % Hike</th>\n",
       "      <th>City</th>\n",
       "    </tr>\n",
       "  </thead>\n",
       "  <tbody>\n",
       "    <tr>\n",
       "      <th>0</th>\n",
       "      <td>45.66</td>\n",
       "      <td>6.61</td>\n",
       "      <td>119090</td>\n",
       "      <td>9</td>\n",
       "      <td>410</td>\n",
       "    </tr>\n",
       "    <tr>\n",
       "      <th>1</th>\n",
       "      <td>23.76</td>\n",
       "      <td>0.26</td>\n",
       "      <td>117991</td>\n",
       "      <td>6</td>\n",
       "      <td>362</td>\n",
       "    </tr>\n",
       "    <tr>\n",
       "      <th>2</th>\n",
       "      <td>22.68</td>\n",
       "      <td>0.34</td>\n",
       "      <td>161045</td>\n",
       "      <td>21</td>\n",
       "      <td>423</td>\n",
       "    </tr>\n",
       "    <tr>\n",
       "      <th>3</th>\n",
       "      <td>41.70</td>\n",
       "      <td>14.43</td>\n",
       "      <td>142616</td>\n",
       "      <td>8</td>\n",
       "      <td>521</td>\n",
       "    </tr>\n",
       "    <tr>\n",
       "      <th>4</th>\n",
       "      <td>22.39</td>\n",
       "      <td>0.79</td>\n",
       "      <td>135706</td>\n",
       "      <td>3</td>\n",
       "      <td>236</td>\n",
       "    </tr>\n",
       "  </tbody>\n",
       "</table>\n",
       "</div>"
      ],
      "text/plain": [
       "   Age in Yrs.  Age in Company (Years)  Salary  Last % Hike  City\n",
       "0        45.66                    6.61  119090            9   410\n",
       "1        23.76                    0.26  117991            6   362\n",
       "2        22.68                    0.34  161045           21   423\n",
       "3        41.70                   14.43  142616            8   521\n",
       "4        22.39                    0.79  135706            3   236"
      ]
     },
     "execution_count": 18,
     "metadata": {},
     "output_type": "execute_result"
    }
   ],
   "source": [
    "emp.head()"
   ]
  },
  {
   "cell_type": "code",
   "execution_count": 19,
   "metadata": {},
   "outputs": [],
   "source": [
    "y = emp['Salary']\n",
    "x = emp.drop(['Salary'],axis = 1)"
   ]
  },
  {
   "cell_type": "code",
   "execution_count": 20,
   "metadata": {},
   "outputs": [],
   "source": [
    "from sklearn.preprocessing import StandardScaler\n",
    "from sklearn.linear_model import LinearRegression\n",
    "from sklearn.model_selection import train_test_split\n",
    "ssc = StandardScaler()\n",
    "x = ssc.fit_transform(x)\n",
    "from sklearn.metrics import r2_score,mean_absolute_error, mean_squared_error, roc_curve,roc_auc_score\n",
    "from sklearn.model_selection import train_test_split, cross_val_score"
   ]
  },
  {
   "cell_type": "code",
   "execution_count": 21,
   "metadata": {},
   "outputs": [
    {
     "name": "stdout",
     "output_type": "stream",
     "text": [
      "r2 Score is = 0.010876345399728149\n",
      "Mean Sq. Error =  1990720381.6726108\n",
      "Mean abs. Error =  38010.808922429795\n",
      "cv score is = -0.002674091790828581\n"
     ]
    }
   ],
   "source": [
    "    x_train,x_test,y_train,y_test = train_test_split(x,y,test_size = .22, random_state = 44)\n",
    "    ln = LinearRegression()\n",
    "    ln.fit(x_train,y_train)\n",
    "    predln = ln.predict(x_test)\n",
    "    print('r2 Score is =', r2_score(y_test,predln))\n",
    "    print('Mean Sq. Error = ',mean_squared_error(y_test,predln))\n",
    "    print('Mean abs. Error = ',mean_absolute_error(y_test,predln))\n",
    "    cvscore = cross_val_score(ln,x,y,cv =5).mean()\n",
    "    print('cv score is =',cvscore)"
   ]
  },
  {
   "cell_type": "code",
   "execution_count": 24,
   "metadata": {},
   "outputs": [
    {
     "name": "stdout",
     "output_type": "stream",
     "text": [
      "-0.007779178069522663\n",
      "Mean Sq. Error =  2028266678.9715238\n",
      "Mean abs. Error =  38360.11479098711\n",
      "cv score is = -0.012558039364382712\n"
     ]
    }
   ],
   "source": [
    "from sklearn.ensemble import RandomForestRegressor, AdaBoostRegressor\n",
    "ad = AdaBoostRegressor()\n",
    "ad.fit(x_train,y_train)\n",
    "adpred = ad.predict(x_test)\n",
    "print(r2_score(y_test,adpred))\n",
    "print('Mean Sq. Error = ',mean_squared_error(y_test,adpred))\n",
    "print('Mean abs. Error = ',mean_absolute_error(y_test,adpred))\n",
    "cvscore = cross_val_score(ad,x,y,cv =5).mean()\n",
    "print('cv score is =',cvscore)"
   ]
  },
  {
   "cell_type": "code",
   "execution_count": 25,
   "metadata": {},
   "outputs": [
    {
     "name": "stdout",
     "output_type": "stream",
     "text": [
      "-0.007779178069522663\n",
      "Mean Sq. Error =  2162956660.323013\n",
      "Mean abs. Error =  39500.724272727275\n",
      "cv score is = -0.12499790464613318\n"
     ]
    }
   ],
   "source": [
    "rf = RandomForestRegressor()\n",
    "rf.fit(x_train,y_train)\n",
    "rfpred = rf.predict(x_test)\n",
    "print(r2_score(y_test,adpred))\n",
    "print('Mean Sq. Error = ',mean_squared_error(y_test,rfpred))\n",
    "print('Mean abs. Error = ',mean_absolute_error(y_test,rfpred))\n",
    "cvscore = cross_val_score(rf,x,y,cv =5).mean()\n",
    "print('cv score is =',cvscore)"
   ]
  },
  {
   "cell_type": "code",
   "execution_count": 26,
   "metadata": {},
   "outputs": [
    {
     "data": {
      "text/plain": [
       "<matplotlib.axes._subplots.AxesSubplot at 0x1eb072ba280>"
      ]
     },
     "execution_count": 26,
     "metadata": {},
     "output_type": "execute_result"
    },
    {
     "data": {
      "image/png": "[encoded data removed]",
      "text/plain": [
       "<Figure size 432x288 with 1 Axes>"
      ]
     },
     "metadata": {
      "needs_background": "light"
     },
     "output_type": "display_data"
    }
   ],
   "source": [
    "sns.scatterplot(y_test,predln)"
   ]
  },
  {
   "cell_type": "code",
   "execution_count": 27,
   "metadata": {},
   "outputs": [
    {
     "data": {
      "text/plain": [
       "<matplotlib.axes._subplots.AxesSubplot at 0x1eb082e6b20>"
      ]
     },
     "execution_count": 27,
     "metadata": {},
     "output_type": "execute_result"
    },
    {
     "data": {
      "image/png": "[encoded data removed]",
      "text/plain": [
       "<Figure size 432x288 with 1 Axes>"
      ]
     },
     "metadata": {
      "needs_background": "light"
     },
     "output_type": "display_data"
    }
   ],
   "source": [
    "sns.scatterplot(y_test,adpred)"
   ]
  },
  {
   "cell_type": "code",
   "execution_count": 29,
   "metadata": {},
   "outputs": [
    {
     "data": {
      "text/plain": [
       "<matplotlib.axes._subplots.AxesSubplot at 0x1eb06d11a60>"
      ]
     },
     "execution_count": 29,
     "metadata": {},
     "output_type": "execute_result"
    },
    {
     "data": {
      "image/png": "[encoded data removed]",
      "text/plain": [
       "<Figure size 432x288 with 1 Axes>"
      ]
     },
     "metadata": {
      "needs_background": "light"
     },
     "output_type": "display_data"
    }
   ],
   "source": [
    "sns.scatterplot(y_test,rfpred)"
   ]
  },
  {
   "cell_type": "markdown",
   "metadata": {},
   "source": [
    "# Conclusion - Model Does not seems to perform as required & may need more data for analysis"
   ]
  },
  {
   "cell_type": "code",
   "execution_count": null,
   "metadata": {},
   "outputs": [],
   "source": []
  }
 ],
 "metadata": {
  "kernelspec": {
   "display_name": "Python 3",
   "language": "python",
   "name": "python3"
  },
  "language_info": {
   "codemirror_mode": {
    "name": "ipython",
    "version": 3
   },
   "file_extension": ".py",
   "mimetype": "text/x-python",
   "name": "python",
   "nbconvert_exporter": "python",
   "pygments_lexer": "ipython3",
   "version": "3.8.3"
  }
 },
 "nbformat": 4,
 "nbformat_minor": 4
}
